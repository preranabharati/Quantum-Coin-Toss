{
 "cells": [
  {
   "cell_type": "code",
   "execution_count": 2,
   "id": "99686873-5e86-4866-932a-b4fdfe8b9734",
   "metadata": {
    "tags": []
   },
   "outputs": [],
   "source": [
    "# Importing standard Qiskit libraries\n",
    "from qiskit import QuantumCircuit, transpile, execute, Aer\n",
    "from qiskit.tools.jupyter import *\n",
    "from qiskit.visualization import *\n",
    "from ibm_quantum_widgets import *\n",
    "from qiskit_aer import AerSimulator\n",
    "\n",
    "# qiskit-ibmq-provider has been deprecated.\n",
    "# Please see the Migration Guides in https://ibm.biz/provider_migration_guide for more detail.\n",
    "from qiskit_ibm_runtime import QiskitRuntimeService, Sampler, Estimator, Session, Options\n",
    "\n",
    "# Loading your IBM Quantum account(s)\n",
    "service = QiskitRuntimeService(channel=\"ibm_quantum\")\n"
   ]
  },
  {
   "cell_type": "code",
   "execution_count": 3,
   "id": "47d65be8-434f-481f-a522-2b802dbf663f",
   "metadata": {
    "tags": []
   },
   "outputs": [
    {
     "name": "stdout",
     "output_type": "stream",
     "text": [
      "Congratulations! You guessed correctly.\n"
     ]
    }
   ],
   "source": [
    "import random\n",
    "\n",
    "def coin_toss():\n",
    "    # Generate a random state for the quantum coin\n",
    "    coin_state = random.choice(['H', 'T'])\n",
    "    \n",
    "    # Create a quantum circuit with one qubit\n",
    "    circuit = QuantumCircuit(1, 1)\n",
    "    \n",
    "    # Apply the Hadamard gate if the coin is in the 'H' (Heads) state\n",
    "    if coin_state == 'H':\n",
    "        circuit.h(0)\n",
    "    \n",
    "    # Measure the qubit\n",
    "    circuit.measure(0, 0)\n",
    "    \n",
    "    # Qiskit simulator\n",
    "    simulator = Aer.get_backend('qasm_simulator')\n",
    "    result = execute(circuit, simulator, shots=1).result()\n",
    "    \n",
    "    # Get the measurement outcome (0 or 1)\n",
    "    measurement = int(result.get_counts(circuit).most_frequent(), 2)\n",
    "    \n",
    "    # Map the measurement to Heads or Tails ['H' or 'T']\n",
    "    guessed_state = 'H' if measurement == 0 else 'T'\n",
    "    \n",
    "    # Check if the player's guess matches the actual coin state\n",
    "    if guessed_state == coin_state:\n",
    "        print(\"Congratulations! You guessed correctly.\")\n",
    "    else:\n",
    "        print(\"Oops! Better luck next time.\")\n",
    "        print(\"The coin was in the\", coin_state, \"state.\")\n",
    "\n",
    "# Play the game\n",
    "coin_toss()\n"
   ]
  }
 ],
 "metadata": {
  "kernelspec": {
   "display_name": "Python 3 (ipykernel)",
   "language": "python",
   "name": "python3"
  },
  "language_info": {
   "codemirror_mode": {
    "name": "ipython",
    "version": 3
   },
   "file_extension": ".py",
   "mimetype": "text/x-python",
   "name": "python",
   "nbconvert_exporter": "python",
   "pygments_lexer": "ipython3",
   "version": "3.10.8"
  },
  "widgets": {
   "application/vnd.jupyter.widget-state+json": {
    "state": {
     "040cedec3a5940debf832c77c007ed1b": {
      "model_module": "@jupyter-widgets/base",
      "model_module_version": "2.0.0",
      "model_name": "LayoutModel",
      "state": {
       "grid_template_areas": "\n                                       \". . . . right \"\n                                        ",
       "grid_template_columns": "20% 20% 20% 20% 20%",
       "width": "100%"
      }
     },
     "0ddd8afefe1a4127bace09455de89f7c": {
      "model_module": "@jupyter-widgets/controls",
      "model_module_version": "2.0.0",
      "model_name": "HBoxModel",
      "state": {
       "children": [
        "IPY_MODEL_56fed22630a249cbbb237156681ba421",
        "IPY_MODEL_779a6e2e722c4d409b7950a160d83e96",
        "IPY_MODEL_4cc2648761be4f3fa8d7ad2204ad55f2",
        "IPY_MODEL_ea2c059f494e4ab381e8d20bf1c571c0",
        "IPY_MODEL_ae4fd859704649078cc225eb2230f3b8"
       ],
       "layout": "IPY_MODEL_b77c4c2d4055437787f81bf97b0a4013"
      }
     },
     "1110106663ae42818f4ab677953ec870": {
      "model_module": "@jupyter-widgets/base",
      "model_module_version": "2.0.0",
      "model_name": "LayoutModel",
      "state": {}
     },
     "160fe5234f024cc29462540850efb668": {
      "model_module": "@jupyter-widgets/controls",
      "model_module_version": "2.0.0",
      "model_name": "ButtonModel",
      "state": {
       "button_style": "primary",
       "description": "Clear",
       "layout": "IPY_MODEL_4bdfd246f4d046b696d00068c7753e9f",
       "style": "IPY_MODEL_baaad7ffb6884417940866037ecc253c",
       "tooltip": null
      }
     },
     "28697f6665dd460d85205794c4f0658c": {
      "model_module": "@jupyter-widgets/controls",
      "model_module_version": "2.0.0",
      "model_name": "HTMLStyleModel",
      "state": {
       "description_width": "",
       "font_size": null,
       "text_color": null
      }
     },
     "4bdfd246f4d046b696d00068c7753e9f": {
      "model_module": "@jupyter-widgets/base",
      "model_module_version": "2.0.0",
      "model_name": "LayoutModel",
      "state": {
       "grid_area": "right",
       "padding": "0px 0px 0px 0px",
       "width": "70px"
      }
     },
     "4cc2648761be4f3fa8d7ad2204ad55f2": {
      "model_module": "@jupyter-widgets/controls",
      "model_module_version": "2.0.0",
      "model_name": "HTMLModel",
      "state": {
       "layout": "IPY_MODEL_cf324c140f3b4757919ce0f99458e416",
       "style": "IPY_MODEL_c676714a54d549c699bdbfe3d78221ac",
       "value": "<h5>Status</h5>"
      }
     },
     "566ddb3364b94c748a1f05469b109203": {
      "model_module": "@jupyter-widgets/base",
      "model_module_version": "2.0.0",
      "model_name": "LayoutModel",
      "state": {
       "margin": "0px 0px 10px 0px"
      }
     },
     "56fed22630a249cbbb237156681ba421": {
      "model_module": "@jupyter-widgets/controls",
      "model_module_version": "2.0.0",
      "model_name": "HTMLModel",
      "state": {
       "layout": "IPY_MODEL_c9b9275cd60a44d7a344c2437fff2d89",
       "style": "IPY_MODEL_cddd6ef8d1354ef1bf639417471d16b7",
       "value": "<h5>Job ID</h5>"
      }
     },
     "5e1b18fb1ed54f5abbc9e0dff964186e": {
      "model_module": "@jupyter-widgets/base",
      "model_module_version": "2.0.0",
      "model_name": "LayoutModel",
      "state": {
       "width": "70px"
      }
     },
     "779a6e2e722c4d409b7950a160d83e96": {
      "model_module": "@jupyter-widgets/controls",
      "model_module_version": "2.0.0",
      "model_name": "HTMLModel",
      "state": {
       "layout": "IPY_MODEL_a4af189cef9045a8ab0f267ccc0a1c10",
       "style": "IPY_MODEL_a1fa81fab0ce46fa976a70f5cf3c4e46",
       "value": "<h5>Backend</h5>"
      }
     },
     "9aa2a90846824d0ea005c3a56caafb8f": {
      "model_module": "@jupyter-widgets/controls",
      "model_module_version": "2.0.0",
      "model_name": "HTMLModel",
      "state": {
       "layout": "IPY_MODEL_566ddb3364b94c748a1f05469b109203",
       "style": "IPY_MODEL_c55dca10647d4cbba9736ca7450c8b2e",
       "value": "<p style='font-family: IBM Plex Sans, Arial, Helvetica, sans-serif; font-size: 20px; font-weight: medium;'>Circuit Properties</p>"
      }
     },
     "a1fa81fab0ce46fa976a70f5cf3c4e46": {
      "model_module": "@jupyter-widgets/controls",
      "model_module_version": "2.0.0",
      "model_name": "HTMLStyleModel",
      "state": {
       "description_width": "",
       "font_size": null,
       "text_color": null
      }
     },
     "a4af189cef9045a8ab0f267ccc0a1c10": {
      "model_module": "@jupyter-widgets/base",
      "model_module_version": "2.0.0",
      "model_name": "LayoutModel",
      "state": {
       "width": "145px"
      }
     },
     "ae4fd859704649078cc225eb2230f3b8": {
      "model_module": "@jupyter-widgets/controls",
      "model_module_version": "2.0.0",
      "model_name": "HTMLModel",
      "state": {
       "layout": "IPY_MODEL_1110106663ae42818f4ab677953ec870",
       "style": "IPY_MODEL_28697f6665dd460d85205794c4f0658c",
       "value": "<h5>Message</h5>"
      }
     },
     "b77c4c2d4055437787f81bf97b0a4013": {
      "model_module": "@jupyter-widgets/base",
      "model_module_version": "2.0.0",
      "model_name": "LayoutModel",
      "state": {
       "margin": "0px 0px 0px 37px",
       "width": "600px"
      }
     },
     "baaad7ffb6884417940866037ecc253c": {
      "model_module": "@jupyter-widgets/controls",
      "model_module_version": "2.0.0",
      "model_name": "ButtonStyleModel",
      "state": {
       "font_family": null,
       "font_size": null,
       "font_style": null,
       "font_variant": null,
       "font_weight": null,
       "text_color": null,
       "text_decoration": null
      }
     },
     "c55dca10647d4cbba9736ca7450c8b2e": {
      "model_module": "@jupyter-widgets/controls",
      "model_module_version": "2.0.0",
      "model_name": "HTMLStyleModel",
      "state": {
       "description_width": "",
       "font_size": null,
       "text_color": null
      }
     },
     "c676714a54d549c699bdbfe3d78221ac": {
      "model_module": "@jupyter-widgets/controls",
      "model_module_version": "2.0.0",
      "model_name": "HTMLStyleModel",
      "state": {
       "description_width": "",
       "font_size": null,
       "text_color": null
      }
     },
     "c9b9275cd60a44d7a344c2437fff2d89": {
      "model_module": "@jupyter-widgets/base",
      "model_module_version": "2.0.0",
      "model_name": "LayoutModel",
      "state": {
       "width": "190px"
      }
     },
     "ccf855c1fbc54ac8aaebb6f56d7efebd": {
      "model_module": "@jupyter-widgets/controls",
      "model_module_version": "2.0.0",
      "model_name": "GridBoxModel",
      "state": {
       "children": [
        "IPY_MODEL_160fe5234f024cc29462540850efb668"
       ],
       "layout": "IPY_MODEL_040cedec3a5940debf832c77c007ed1b"
      }
     },
     "cddd6ef8d1354ef1bf639417471d16b7": {
      "model_module": "@jupyter-widgets/controls",
      "model_module_version": "2.0.0",
      "model_name": "HTMLStyleModel",
      "state": {
       "description_width": "",
       "font_size": null,
       "text_color": null
      }
     },
     "cf324c140f3b4757919ce0f99458e416": {
      "model_module": "@jupyter-widgets/base",
      "model_module_version": "2.0.0",
      "model_name": "LayoutModel",
      "state": {
       "width": "95px"
      }
     },
     "ea2c059f494e4ab381e8d20bf1c571c0": {
      "model_module": "@jupyter-widgets/controls",
      "model_module_version": "2.0.0",
      "model_name": "HTMLModel",
      "state": {
       "layout": "IPY_MODEL_5e1b18fb1ed54f5abbc9e0dff964186e",
       "style": "IPY_MODEL_fb8c676a737b4bae9684364cd2c6b757",
       "value": "<h5>Queue</h5>"
      }
     },
     "fb8c676a737b4bae9684364cd2c6b757": {
      "model_module": "@jupyter-widgets/controls",
      "model_module_version": "2.0.0",
      "model_name": "HTMLStyleModel",
      "state": {
       "description_width": "",
       "font_size": null,
       "text_color": null
      }
     }
    },
    "version_major": 2,
    "version_minor": 0
   }
  }
 },
 "nbformat": 4,
 "nbformat_minor": 5
}
